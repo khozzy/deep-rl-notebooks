{
 "cells": [
  {
   "cell_type": "code",
   "execution_count": 1,
   "id": "028794bb",
   "metadata": {},
   "outputs": [],
   "source": [
    "from IPython.display import IFrame"
   ]
  },
  {
   "cell_type": "markdown",
   "id": "1c909168",
   "metadata": {},
   "source": [
    "# Deep RL Notebooks\n"
   ]
  },
  {
   "cell_type": "markdown",
   "id": "0f5e4228",
   "metadata": {},
   "source": [
    "## Resources\n",
    "\n",
    "- [Foundations of Deep RL by Pieter Abbeel](https://www.youtube.com/playlist?list=PLwRJQ4m4UJjNymuBM9RdmB3Z9N5-0IlY0) (6 lectures)\n",
    "\n",
    "## Software\n",
    "\n",
    "- [Gymnasium](https://gymnasium.farama.org/) - A toolkit for developing and comparing reinforcement learning algorithms.\n",
    "\n",
    "## TODOs:\n",
    "\n",
    "- https://www.youtube.com/watch?v=2GwBez0D20A (RL Highlights 8:20)\n"
   ]
  },
  {
   "cell_type": "code",
   "execution_count": 2,
   "id": "3b9674f3-da98-4d8b-b2e9-af7d915064a0",
   "metadata": {},
   "outputs": [
    {
     "data": {
      "text/html": [
       "\n",
       "        <iframe\n",
       "            width=\"800\"\n",
       "            height=\"600\"\n",
       "            src=\"./markmaps/html/example.html\"\n",
       "            frameborder=\"0\"\n",
       "            allowfullscreen\n",
       "            \n",
       "        ></iframe>\n",
       "        "
      ],
      "text/plain": [
       "<IPython.lib.display.IFrame at 0x103498980>"
      ]
     },
     "execution_count": 2,
     "metadata": {},
     "output_type": "execute_result"
    }
   ],
   "source": [
    "IFrame(src=\"./markmaps/html/example.html\", width=800, height=600)"
   ]
  },
  {
   "cell_type": "code",
   "execution_count": 3,
   "id": "eb096ac6-e149-4fed-bb52-a4d27d9c43b5",
   "metadata": {},
   "outputs": [],
   "source": [
    "# from IPython.display import HTML\n",
    "\n",
    "# # Read and display the HTML file\n",
    "# with open(\"./markmaps/html/example.html\", \"r\", encoding=\"utf-8\") as f:\n",
    "#     html_content = f.read()\n",
    "# HTML(html_content)"
   ]
  },
  {
   "cell_type": "code",
   "execution_count": null,
   "id": "1e745833",
   "metadata": {},
   "outputs": [],
   "source": []
  }
 ],
 "metadata": {
  "kernelspec": {
   "display_name": "Python 3 (ipykernel)",
   "language": "python",
   "name": "python3"
  },
  "language_info": {
   "codemirror_mode": {
    "name": "ipython",
    "version": 3
   },
   "file_extension": ".py",
   "mimetype": "text/x-python",
   "name": "python",
   "nbconvert_exporter": "python",
   "pygments_lexer": "ipython3",
   "version": "3.13.2"
  }
 },
 "nbformat": 4,
 "nbformat_minor": 5
}
